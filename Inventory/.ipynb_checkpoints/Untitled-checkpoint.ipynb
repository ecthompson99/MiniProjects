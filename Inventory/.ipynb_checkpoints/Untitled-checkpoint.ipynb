{
 "cells": [
  {
   "cell_type": "code",
   "execution_count": null,
   "metadata": {},
   "outputs": [],
   "source": [
    "class Product:\n",
    "    def __init__(self, name, price, description): \n",
    "        self.name = name\n",
    "        self.price = price\n",
    "        self.description = description\n",
    "\n",
    "products = []\n",
    "\n",
    "quit = True\n",
    "\n",
    "while quit: \n",
    "    init_prompt = input(\"Type 'add' to add a product, 'quit' to exit, 'list' to show inventory: \")\n",
    "    if init_prompt == \"add\": \n",
    "        name = input(\"What is the name of your product?: \")\n",
    "        price = input(\"What is the price of your product?: \")\n",
    "        description = input(\"How would you describe your product?: \")\n",
    "        products.append(Product(name, price, description))\n",
    "    elif init_prompt == \"list\": \n",
    "        for i in range(len(products)):\n",
    "            print(products[i])\n",
    "    elif init_prompt == \"quit\": \n",
    "        quit = False\n",
    "    else: \n",
    "        print(\"\\nPlease enter a valid command to continue.\")\n"
   ]
  },
  {
   "cell_type": "code",
   "execution_count": null,
   "metadata": {},
   "outputs": [],
   "source": []
  }
 ],
 "metadata": {
  "kernelspec": {
   "display_name": "Python 3",
   "language": "python",
   "name": "python3"
  },
  "language_info": {
   "codemirror_mode": {
    "name": "ipython",
    "version": 3
   },
   "file_extension": ".py",
   "mimetype": "text/x-python",
   "name": "python",
   "nbconvert_exporter": "python",
   "pygments_lexer": "ipython3",
   "version": "3.7.1"
  }
 },
 "nbformat": 4,
 "nbformat_minor": 2
}
